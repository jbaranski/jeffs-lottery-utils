{
 "cells": [
  {
   "cell_type": "code",
   "execution_count": null,
   "metadata": {},
   "outputs": [],
   "source": [
    "import pandas as pd\n",
    "import matplotlib.pyplot as plt\n",
    "\n",
    "pd.set_option('display.max_colwidth', None)\n"
   ]
  },
  {
   "cell_type": "markdown",
   "metadata": {},
   "source": [
    "## Setup dataframe for analysis"
   ]
  },
  {
   "cell_type": "code",
   "execution_count": null,
   "metadata": {},
   "outputs": [],
   "source": [
    "df = pd.read_csv('../numbers/megamillions.csv')\n",
    "num_rows = df['white_balls'].count()\n",
    "df_half = df.tail(num_rows // 2)\n",
    "df_quarter = df.tail(num_rows // 4)\n",
    "df_eighth = df.tail(num_rows // 8)\n",
    "df_sixteenth = df.tail(num_rows // 16)\n",
    "df_last_12 = df.tail(12)\n",
    "df_last_6 = df.tail(6)\n",
    "df_last_3 = df.tail(3)\n",
    "\n",
    "# Uncomment any other dataframes to analyze over smaller time periods\n",
    "dfs = [\n",
    "    {'label': 'all', 'df': df},\n",
    "#     {'label': 'half', 'df':  df_half},\n",
    "#     {'label': 'quarter', 'df':  df_quarter},\n",
    "#     {'label': 'eigth', 'df':  df_eighth},\n",
    "#     {'label': 'sixteenth', 'df':  df_sixteenth},\n",
    "#     {'label': 'last 12', 'df':  df_last_12},\n",
    "#     {'label': 'last 6', 'df':  df_last_6},\n",
    "#     {'label': 'last 3', 'df':  df_last_3}\n",
    "]\n"
   ]
  },
  {
   "cell_type": "markdown",
   "metadata": {},
   "source": [
    "## Individual number frequencies"
   ]
  },
  {
   "cell_type": "code",
   "execution_count": null,
   "metadata": {},
   "outputs": [
    {
     "name": "stdout",
     "output_type": "stream",
     "text": [
      "Time period: all\n",
      "\n",
      "|    |   white_ball |   count |     pct |\n",
      "|----|--------------|---------|---------|\n",
      "|  0 |            3 |      70 | 1.89189 |\n",
      "|  1 |           10 |      69 | 1.86486 |\n",
      "|  2 |           17 |      65 | 1.75676 |\n",
      "|  3 |           31 |      64 | 1.72973 |\n",
      "|  4 |           64 |      63 | 1.7027  |\n",
      "|  5 |           14 |      63 | 1.7027  |\n",
      "|  6 |           46 |      63 | 1.7027  |\n",
      "|  7 |            8 |      62 | 1.67568 |\n",
      "|  8 |           38 |      61 | 1.64865 |\n",
      "|  9 |           15 |      61 | 1.64865 |\n",
      "| 10 |           20 |      61 | 1.64865 |\n",
      "| 11 |           29 |      61 | 1.64865 |\n",
      "| 12 |           66 |      60 | 1.62162 |\n",
      "| 13 |           22 |      60 | 1.62162 |\n",
      "| 14 |           42 |      59 | 1.59459 |\n",
      "| 15 |           43 |      59 | 1.59459 |\n",
      "| 16 |           26 |      58 | 1.56757 |\n",
      "| 17 |           44 |      58 | 1.56757 |\n",
      "| 18 |           58 |      58 | 1.56757 |\n",
      "| 19 |           59 |      56 | 1.51351 |\n",
      "| 20 |           11 |      56 | 1.51351 |\n",
      "| 21 |           61 |      56 | 1.51351 |\n",
      "| 22 |           18 |      56 | 1.51351 |\n",
      "| 23 |           33 |      55 | 1.48649 |\n",
      "| 24 |           24 |      55 | 1.48649 |\n",
      "| 25 |           53 |      55 | 1.48649 |\n",
      "| 26 |           19 |      54 | 1.45946 |\n",
      "| 27 |           25 |      54 | 1.45946 |\n",
      "| 28 |            4 |      54 | 1.45946 |\n",
      "| 29 |           40 |      54 | 1.45946 |\n",
      "| 30 |           62 |      54 | 1.45946 |\n",
      "| 31 |           48 |      53 | 1.43243 |\n",
      "| 32 |           30 |      53 | 1.43243 |\n",
      "| 33 |           70 |      53 | 1.43243 |\n",
      "| 34 |           16 |      53 | 1.43243 |\n",
      "| 35 |           57 |      53 | 1.43243 |\n",
      "| 36 |            7 |      53 | 1.43243 |\n",
      "| 37 |            6 |      53 | 1.43243 |\n",
      "| 38 |            1 |      52 | 1.40541 |\n",
      "| 39 |           28 |      52 | 1.40541 |\n",
      "| 40 |           37 |      50 | 1.35135 |\n",
      "| 41 |           32 |      50 | 1.35135 |\n",
      "| 42 |           27 |      50 | 1.35135 |\n",
      "| 43 |            2 |      50 | 1.35135 |\n",
      "| 44 |           13 |      50 | 1.35135 |\n",
      "| 45 |           34 |      50 | 1.35135 |\n",
      "| 46 |           69 |      49 | 1.32432 |\n",
      "| 47 |           52 |      49 | 1.32432 |\n",
      "| 48 |           54 |      49 | 1.32432 |\n",
      "| 49 |           39 |      48 | 1.2973  |\n",
      "| 50 |            5 |      48 | 1.2973  |\n",
      "| 51 |           68 |      47 | 1.27027 |\n",
      "| 52 |           23 |      47 | 1.27027 |\n",
      "| 53 |           21 |      47 | 1.27027 |\n",
      "| 54 |           12 |      47 | 1.27027 |\n",
      "| 55 |           41 |      46 | 1.24324 |\n",
      "| 56 |           56 |      46 | 1.24324 |\n",
      "| 57 |           55 |      46 | 1.24324 |\n",
      "| 58 |           47 |      46 | 1.24324 |\n",
      "| 59 |            9 |      46 | 1.24324 |\n",
      "| 60 |           60 |      45 | 1.21622 |\n",
      "| 61 |           63 |      45 | 1.21622 |\n",
      "| 62 |           35 |      45 | 1.21622 |\n",
      "| 63 |           50 |      44 | 1.18919 |\n",
      "| 64 |           67 |      44 | 1.18919 |\n",
      "| 65 |           45 |      44 | 1.18919 |\n",
      "| 66 |           36 |      44 | 1.18919 |\n",
      "| 67 |           65 |      42 | 1.13514 |\n",
      "| 68 |           51 |      40 | 1.08108 |\n",
      "| 69 |           49 |      37 | 1       |\n",
      "\n",
      "|    |   yellow_ball |   count |     pct |\n",
      "|----|---------------|---------|---------|\n",
      "|  0 |            11 |      40 | 5.40541 |\n",
      "|  1 |            22 |      39 | 5.27027 |\n",
      "|  2 |            24 |      36 | 4.86486 |\n",
      "|  3 |            18 |      36 | 4.86486 |\n",
      "|  4 |            25 |      35 | 4.72973 |\n",
      "|  5 |             9 |      35 | 4.72973 |\n",
      "|  6 |             4 |      35 | 4.72973 |\n",
      "|  7 |            13 |      33 | 4.45946 |\n",
      "|  8 |            17 |      32 | 4.32432 |\n",
      "|  9 |            19 |      32 | 4.32432 |\n",
      "| 10 |            14 |      29 | 3.91892 |\n",
      "| 11 |             3 |      29 | 3.91892 |\n",
      "| 12 |            20 |      29 | 3.91892 |\n",
      "| 13 |             1 |      29 | 3.91892 |\n",
      "| 14 |            12 |      28 | 3.78378 |\n",
      "| 15 |            10 |      27 | 3.64865 |\n",
      "| 16 |            21 |      26 | 3.51351 |\n",
      "| 17 |             7 |      26 | 3.51351 |\n",
      "| 18 |            15 |      25 | 3.37838 |\n",
      "| 19 |             2 |      25 | 3.37838 |\n",
      "| 20 |            16 |      24 | 3.24324 |\n",
      "| 21 |             6 |      23 | 3.10811 |\n",
      "| 22 |             8 |      23 | 3.10811 |\n",
      "| 23 |             5 |      22 | 2.97297 |\n",
      "| 24 |            23 |      22 | 2.97297 |\n",
      "\n"
     ]
    }
   ],
   "source": [
    "def calculate_one_frequency(cur_df_info):\n",
    "    label = cur_df_info['label']\n",
    "    print(f'Time period: {label}')\n",
    "    print()\n",
    "    cur_df = cur_df_info['df']\n",
    "    num_rows = cur_df['white_balls'].count()\n",
    "    num_white_balls = num_rows * 5\n",
    "    df_white_balls = cur_df['white_balls'].apply(lambda x: x.split(\"|\")).explode().to_frame()\n",
    "    df_yellow_ball = cur_df['yellow_ball'].apply(lambda x: x).explode().to_frame()\n",
    "    df_white_balls_frequency = df_white_balls.value_counts().reset_index()\n",
    "    df_white_balls_frequency.columns = ['white_ball', 'count']\n",
    "    df_white_balls_frequency['pct'] = (df_white_balls_frequency['count'] / num_white_balls) * 100\n",
    "    print(df_white_balls_frequency.to_markdown(tablefmt='github'))\n",
    "    print()\n",
    "    df_yellow_ball_frequency = df_yellow_ball.value_counts().reset_index()\n",
    "    df_yellow_ball_frequency.columns = ['yellow_ball', 'count']\n",
    "    # df_yellow_ball_frequency = df_yellow_ball_frequency[df_yellow_ball_frequency['count'] > 1]\n",
    "    df_yellow_ball_frequency['pct'] = (df_yellow_ball_frequency['count'] / num_rows) * 100\n",
    "    print(df_yellow_ball_frequency.to_markdown(tablefmt='github'))\n",
    "    print()\n",
    "\n",
    "\n",
    "for x in dfs:\n",
    "    calculate_one_frequency(x)"
   ]
  },
  {
   "cell_type": "markdown",
   "metadata": {},
   "source": [
    "## Even/odd frequencies"
   ]
  },
  {
   "cell_type": "code",
   "execution_count": null,
   "metadata": {},
   "outputs": [],
   "source": []
  },
  {
   "cell_type": "markdown",
   "metadata": {},
   "source": [
    "## High/low frequencies"
   ]
  },
  {
   "cell_type": "code",
   "execution_count": null,
   "metadata": {},
   "outputs": [],
   "source": []
  },
  {
   "cell_type": "markdown",
   "metadata": {},
   "source": [
    "## Consecutive frequencies"
   ]
  },
  {
   "cell_type": "code",
   "execution_count": null,
   "metadata": {},
   "outputs": [],
   "source": []
  }
 ],
 "metadata": {
  "kernelspec": {
   "display_name": "analysis-uZ2qDClN",
   "language": "python",
   "name": "python3"
  },
  "language_info": {
   "codemirror_mode": {
    "name": "ipython",
    "version": 3
   },
   "file_extension": ".py",
   "mimetype": "text/x-python",
   "name": "python",
   "nbconvert_exporter": "python",
   "pygments_lexer": "ipython3",
   "version": "3.12.7"
  }
 },
 "nbformat": 4,
 "nbformat_minor": 2
}
